{
 "cells": [
  {
   "cell_type": "markdown",
   "metadata": {},
   "source": [
    "# Datasets and Testing Procedures\n",
    "\n",
    "Now that we have a high level idea of a classifier, let's take a moment to go over data and datasets.\n",
    "\n",
    "Datasets will largely vary on the sort of data they contain but for them to be injested by the classifier, they need to be numeric real values. Datasets containing text such as Natural Language Processing (NLP) tasks will need to be preprocessed and converted into feature vectors. In NLP, converting text, that is, character, words, sentences, paragraphs, documents, and etc. into numeric feature vectors is called **embeddings** which isn't within the scope of this discussion.\n",
    "\n",
    "For now let us assume that the datasets we are working with are numeric and consists of many features. From there, datasets commonly include multiple samples or readings for a class. Additionally, the dataset contains a **truth label** indicating which class the set of features belong to. The truth label may not be present in unsupervised learning cases (which will be covered shortly).\n",
    "\n",
    "- Dataset\n",
    "  - Samples\n",
    "    - Features\n",
    "    - Truth Labels\n",
    "    \n",
    "A few things to note:\n",
    "- Labeling/Annotating data is typically manual work which causes it to be time-consuming/expensive\n",
    "- Not all the features provided are likely to be optimal features\n",
    "- Small datasets can cause challenges as we'll discuss later\n",
    "\n",
    "\n",
    "Let's look at the dataset we have have established before."
   ]
  },
  {
   "cell_type": "code",
   "execution_count": 1,
   "metadata": {},
   "outputs": [],
   "source": [
    "import numpy as np\n",
    "from numpy import matlib\n",
    "import scipy.stats as stats\n",
    "import matplotlib.pyplot as plt\n",
    "import seaborn as sns\n",
    "import pandas as pd"
   ]
  },
  {
   "cell_type": "code",
   "execution_count": 2,
   "metadata": {},
   "outputs": [],
   "source": [
    "def gaussian_random_vectors(mean, cov, num_values, seed=None):\n",
    "    n = len(mean)\n",
    "    \n",
    "    # get eigenvalues to compute spread\n",
    "    evalues, evectors = np.linalg.eig(cov)\n",
    "\n",
    "    # take absolute values incase eigenvalues are not positive semi-definite\n",
    "    abs_values = np.abs(evalues)\n",
    "    \n",
    "    A = evectors * np.sqrt(abs_values)\n",
    "    \n",
    "    np.random.seed(seed)\n",
    "    Y = np.random.randn(n, num_values)\n",
    "\n",
    "    # transform to get target mean and covariance\n",
    "    shift = np.matlib.repmat(mean, num_values, 1).T\n",
    "    X = np.dot(A, Y) + shift\n",
    "    \n",
    "    return X"
   ]
  },
  {
   "cell_type": "code",
   "execution_count": 3,
   "metadata": {},
   "outputs": [],
   "source": [
    "mean_1 = [72, 180]\n",
    "cov_1 = [[1, 2], [4, 1]]  # diagonal covariance\n",
    "\n",
    "mean_2 = [60, 150]\n",
    "cov_2 = [[1, 0.1], [1, 1]]  # diagonal covariance\n",
    "\n",
    "mean_3 = [65, 165]\n",
    "cov_3 = [[8, 0.1], [2, 4]]  # diagonal covariance\n",
    "\n",
    "mean_4 = [63, 140]\n",
    "cov_4 = [[1, 0.1], [1, 5]]  # diagonal covariance"
   ]
  },
  {
   "cell_type": "code",
   "execution_count": 4,
   "metadata": {},
   "outputs": [],
   "source": [
    "n_samples = 5\n",
    "c1 = gaussian_random_vectors(mean_1, cov_1, n_samples)\n",
    "c2 = gaussian_random_vectors(mean_2, cov_2, n_samples)\n",
    "c3 = gaussian_random_vectors(mean_3, cov_3, n_samples)\n",
    "c4 = gaussian_random_vectors(mean_4, cov_4, n_samples)"
   ]
  },
  {
   "cell_type": "code",
   "execution_count": 5,
   "metadata": {},
   "outputs": [],
   "source": [
    "# concatenate all the data\n",
    "data_samples = np.hstack((c1, c2, c3, c4))\n",
    "data_labels = [1] * np.shape(c1)[1] + [2] * np.shape(c2)[1] + [3] * np.shape(c3)[1] + [4] * np.shape(c4)[1]"
   ]
  },
  {
   "cell_type": "code",
   "execution_count": 8,
   "metadata": {},
   "outputs": [
    {
     "data": {
      "text/html": [
       "<div>\n",
       "<style scoped>\n",
       "    .dataframe tbody tr th:only-of-type {\n",
       "        vertical-align: middle;\n",
       "    }\n",
       "\n",
       "    .dataframe tbody tr th {\n",
       "        vertical-align: top;\n",
       "    }\n",
       "\n",
       "    .dataframe thead th {\n",
       "        text-align: right;\n",
       "    }\n",
       "</style>\n",
       "<table border=\"1\" class=\"dataframe\">\n",
       "  <thead>\n",
       "    <tr style=\"text-align: right;\">\n",
       "      <th></th>\n",
       "      <th>Height</th>\n",
       "      <th>Weight</th>\n",
       "      <th>Label</th>\n",
       "    </tr>\n",
       "  </thead>\n",
       "  <tbody>\n",
       "    <tr>\n",
       "      <th>0</th>\n",
       "      <td>71.841234</td>\n",
       "      <td>180.014100</td>\n",
       "      <td>1</td>\n",
       "    </tr>\n",
       "    <tr>\n",
       "      <th>1</th>\n",
       "      <td>70.640424</td>\n",
       "      <td>177.643435</td>\n",
       "      <td>1</td>\n",
       "    </tr>\n",
       "    <tr>\n",
       "      <th>2</th>\n",
       "      <td>74.156552</td>\n",
       "      <td>180.891904</td>\n",
       "      <td>1</td>\n",
       "    </tr>\n",
       "    <tr>\n",
       "      <th>3</th>\n",
       "      <td>73.777304</td>\n",
       "      <td>180.055319</td>\n",
       "      <td>1</td>\n",
       "    </tr>\n",
       "    <tr>\n",
       "      <th>4</th>\n",
       "      <td>73.245561</td>\n",
       "      <td>178.180129</td>\n",
       "      <td>1</td>\n",
       "    </tr>\n",
       "    <tr>\n",
       "      <th>5</th>\n",
       "      <td>59.973068</td>\n",
       "      <td>148.891911</td>\n",
       "      <td>2</td>\n",
       "    </tr>\n",
       "    <tr>\n",
       "      <th>6</th>\n",
       "      <td>59.284143</td>\n",
       "      <td>149.297971</td>\n",
       "      <td>2</td>\n",
       "    </tr>\n",
       "    <tr>\n",
       "      <th>7</th>\n",
       "      <td>59.799127</td>\n",
       "      <td>148.687751</td>\n",
       "      <td>2</td>\n",
       "    </tr>\n",
       "    <tr>\n",
       "      <th>8</th>\n",
       "      <td>60.502590</td>\n",
       "      <td>150.477476</td>\n",
       "      <td>2</td>\n",
       "    </tr>\n",
       "    <tr>\n",
       "      <th>9</th>\n",
       "      <td>59.411198</td>\n",
       "      <td>149.737740</td>\n",
       "      <td>2</td>\n",
       "    </tr>\n",
       "    <tr>\n",
       "      <th>10</th>\n",
       "      <td>63.993269</td>\n",
       "      <td>164.534086</td>\n",
       "      <td>3</td>\n",
       "    </tr>\n",
       "    <tr>\n",
       "      <th>11</th>\n",
       "      <td>63.945977</td>\n",
       "      <td>162.589890</td>\n",
       "      <td>3</td>\n",
       "    </tr>\n",
       "    <tr>\n",
       "      <th>12</th>\n",
       "      <td>65.305530</td>\n",
       "      <td>165.702056</td>\n",
       "      <td>3</td>\n",
       "    </tr>\n",
       "    <tr>\n",
       "      <th>13</th>\n",
       "      <td>70.425198</td>\n",
       "      <td>164.994455</td>\n",
       "      <td>3</td>\n",
       "    </tr>\n",
       "    <tr>\n",
       "      <th>14</th>\n",
       "      <td>65.908170</td>\n",
       "      <td>168.176710</td>\n",
       "      <td>3</td>\n",
       "    </tr>\n",
       "    <tr>\n",
       "      <th>15</th>\n",
       "      <td>63.458139</td>\n",
       "      <td>136.728837</td>\n",
       "      <td>4</td>\n",
       "    </tr>\n",
       "    <tr>\n",
       "      <th>16</th>\n",
       "      <td>63.473630</td>\n",
       "      <td>142.926932</td>\n",
       "      <td>4</td>\n",
       "    </tr>\n",
       "    <tr>\n",
       "      <th>17</th>\n",
       "      <td>62.200209</td>\n",
       "      <td>140.091183</td>\n",
       "      <td>4</td>\n",
       "    </tr>\n",
       "    <tr>\n",
       "      <th>18</th>\n",
       "      <td>61.904067</td>\n",
       "      <td>139.520771</td>\n",
       "      <td>4</td>\n",
       "    </tr>\n",
       "    <tr>\n",
       "      <th>19</th>\n",
       "      <td>62.674775</td>\n",
       "      <td>138.450866</td>\n",
       "      <td>4</td>\n",
       "    </tr>\n",
       "  </tbody>\n",
       "</table>\n",
       "</div>"
      ],
      "text/plain": [
       "       Height      Weight  Label\n",
       "0   71.841234  180.014100      1\n",
       "1   70.640424  177.643435      1\n",
       "2   74.156552  180.891904      1\n",
       "3   73.777304  180.055319      1\n",
       "4   73.245561  178.180129      1\n",
       "5   59.973068  148.891911      2\n",
       "6   59.284143  149.297971      2\n",
       "7   59.799127  148.687751      2\n",
       "8   60.502590  150.477476      2\n",
       "9   59.411198  149.737740      2\n",
       "10  63.993269  164.534086      3\n",
       "11  63.945977  162.589890      3\n",
       "12  65.305530  165.702056      3\n",
       "13  70.425198  164.994455      3\n",
       "14  65.908170  168.176710      3\n",
       "15  63.458139  136.728837      4\n",
       "16  63.473630  142.926932      4\n",
       "17  62.200209  140.091183      4\n",
       "18  61.904067  139.520771      4\n",
       "19  62.674775  138.450866      4"
      ]
     },
     "metadata": {},
     "output_type": "display_data"
    }
   ],
   "source": [
    "dataset = {\n",
    "    'Height': data_samples[0,:],\n",
    "    'Weight': data_samples[1,:],\n",
    "    'Label': data_labels\n",
    "}\n",
    "\n",
    "df = pd.DataFrame(dataset)\n",
    "display(df)"
   ]
  },
  {
   "cell_type": "code",
   "execution_count": 7,
   "metadata": {},
   "outputs": [
    {
     "data": {
      "text/plain": [
       "<matplotlib.legend.Legend at 0x7f3215b36fd0>"
      ]
     },
     "execution_count": 7,
     "metadata": {},
     "output_type": "execute_result"
    },
    {
     "data": {
      "image/png": "[encoded data removed]",
      "text/plain": [
       "<Figure size 1152x576 with 1 Axes>"
      ]
     },
     "metadata": {
      "needs_background": "light"
     },
     "output_type": "display_data"
    }
   ],
   "source": [
    "plt.figure(figsize=(16, 8))\n",
    "for label in set(df['Label'].values):\n",
    "    sns.scatterplot(\n",
    "        x='Height', y='Weight',\n",
    "        data=df.loc[df['Label'] == label]\n",
    "    )\n",
    "plt.grid()\n",
    "plt.title('Feature Space')\n",
    "plt.legend(['Class 1', 'Class 2', 'Class 3', 'Class 4'])"
   ]
  },
  {
   "cell_type": "markdown",
   "metadata": {},
   "source": [
    "# Training vs Validation vs Testing\n",
    "\n",
    "A dataset is typically divided into 3 different datasets. `Training`, `Validation`, and `Testing` datasets.\n",
    "\n",
    "The idea behind splitting the dataset into three parts is to:\n",
    "- Use the `Training` set for learning/training the model\n",
    "- Use the `Validation` set for evaluating the model performance and any additional parameter tuning\n",
    "- Use the `Testing` set to simulate performance as if it used for live deployment (this should be used very sparingly)\n",
    "\n",
    "In regards to the number of samples, the training set is to be the largest and the majority of the samples from the dataset."
   ]
  },
  {
   "cell_type": "markdown",
   "metadata": {},
   "source": [
    "# Balanced Data\n",
    "\n",
    "It is important to consider the number of samples in each class used for training. When there is an imbalance of classes in the data, the training can be skewed as it influences the frequency of which the event of the class appears. This may be intentional but will overall play an influential role on the model's accuracy. "
   ]
  },
  {
   "cell_type": "markdown",
   "metadata": {},
   "source": [
    "# Overfitting/Underfitting Data\n",
    "\n",
    "A common occurrence that can be difficult to avoid (although there are ways to alleviate this) is that the classifier is over trained specifically to the training data. If the model will only work on the training data it is trained on causing it to perform poorly on the validation and testing data. This is known as **overfitting** a classifier. On the other side, **underfitting** data can occur if the model cannot generalize the training data well. Working with small datasets are much more prone to overfitting."
   ]
  },
  {
   "cell_type": "markdown",
   "metadata": {},
   "source": [
    "# K-Fold Cross Validation\n",
    "\n",
    "K-Fold is a method in which the dataset is divided up into $K$ sections called folds. The folds are looped iteratively where the model is trained and tested on the fold and tested on the remaining data. The performance of the model is measured across each fold to measure the model's performance without it being as dependant on the training dataset.\n",
    "\n",
    "K-Fold Cross Validation is particularly useful when the dataset is small and limited.\n",
    "\n",
    "![graphics/grid_search_cross_validation.png](graphics/grid_search_cross_validation.png)"
   ]
  }
 ],
 "metadata": {
  "kernelspec": {
   "display_name": "guide",
   "language": "python",
   "name": "guide"
  },
  "language_info": {
   "codemirror_mode": {
    "name": "ipython",
    "version": 3
   },
   "file_extension": ".py",
   "mimetype": "text/x-python",
   "name": "python",
   "nbconvert_exporter": "python",
   "pygments_lexer": "ipython3",
   "version": "3.7.7"
  }
 },
 "nbformat": 4,
 "nbformat_minor": 4
}
