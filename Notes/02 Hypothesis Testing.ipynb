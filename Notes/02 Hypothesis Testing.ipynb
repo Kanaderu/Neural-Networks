{
 "cells": [
  {
   "cell_type": "markdown",
   "metadata": {},
   "source": [
    "# Hypothesis Testing\n",
    "\n",
    "Let's look at the statistical side for a bit using hypothesis testing.\n",
    "\n",
    "Let's review the Bayes Rule:\n",
    "\n",
    "$$\n",
    "P(A|B) = \\frac{P(B|A) P(A)}{P(B)}\n",
    "$$\n",
    "\n",
    "The probability allows us to flip the conditional probabilities, $P(A|B)$ and $P(B|A)$. Where $A$ is the event and $B$ is the evidence.\n",
    "\n",
    "The A Posterioi probability of using Bayes Rule gives us ($p$ notes the probability density function and $P$ notes the probability):\n",
    "\n",
    "$$\n",
    "p(A|\\textbf{B}=B) = \\frac{p(\\textbf{B}=B|A) P(A)}{p(B)}\n",
    "$$\n",
    "\n",
    "Changing the notation a bit to highlight the random vectors and to let our input features represent the inputs $\\textbf{X}$ and our classes $C_i$:\n",
    "\n",
    "$$\n",
    "p_{C_i|\\textbf{X}=X}(X) = \\frac{p_{\\textbf{X}|C_i}(X) P(C_i)}{p_{\\textbf{X}}(X)} = q_i(X)\n",
    "$$\n",
    "\n",
    "where\n",
    "\n",
    "$p_{\\textbf{X}|C_i}(X)$ is the likelihood function\n",
    "\n",
    "$P(C_i)$ is the prior (for unbalanced data)\n",
    "\n",
    "$p_{\\textbf{X}}(X)$ is the marginal likelihood function\n",
    "\n",
    "$q_i(X)$ is the A Posteriori probability of class $i$ of the input $X$\n",
    "\n",
    "## Bayes Decision Rule for Minimum Error\n",
    "\n",
    "Let's assign a feature vector to a class that corresponds to the Maximum A Posterioi (MAP) probability.\n",
    "\n",
    "Looking at the case for two classes, that is $L=2$, we'll be able to compute the A Posteriori probabilities for each class $q_1$ and $q_2$. We can also assign the class with the highest A Posteriori probability (MAP) to the given input features ($X$). That is we can assign the estimate of a class $\\hat{y}$ to the input $X$.\n",
    "\n",
    "$$\n",
    "\\begin{align}\n",
    "\\hat{y} &= \n",
    "\\begin{cases}\n",
    "    1, & \\text{if } q_1(X) \\ge q_2(X)\\\\\n",
    "    2, & \\text{if } q_1(X) \\lt q_2(X)\n",
    "\\end{cases} \\\\\n",
    "&= \n",
    "\\begin{cases}\n",
    "    1, & \\text{if } q_1(X) \\ge q_2(X)\\\\\n",
    "    2, & \\text{if } q_1(X) \\lt q_2(X)\n",
    "\\end{cases} \\\\\n",
    "\\end{align}\n",
    "$$"
   ]
  },
  {
   "cell_type": "code",
   "execution_count": null,
   "metadata": {},
   "outputs": [],
   "source": []
  },
  {
   "cell_type": "code",
   "execution_count": null,
   "metadata": {},
   "outputs": [],
   "source": []
  }
 ],
 "metadata": {
  "kernelspec": {
   "display_name": "guide",
   "language": "python",
   "name": "guide"
  },
  "language_info": {
   "codemirror_mode": {
    "name": "ipython",
    "version": 3
   },
   "file_extension": ".py",
   "mimetype": "text/x-python",
   "name": "python",
   "nbconvert_exporter": "python",
   "pygments_lexer": "ipython3",
   "version": "3.7.7"
  }
 },
 "nbformat": 4,
 "nbformat_minor": 4
}
