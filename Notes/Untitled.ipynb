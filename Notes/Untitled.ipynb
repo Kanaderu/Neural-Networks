{
 "cells": [
  {
   "cell_type": "markdown",
   "metadata": {},
   "source": [
    "# Logistic Regression\n",
    "\n",
    "Here we will take a look at **logistic regression** which is the baseline supervised machine learning algorithm for classification and tie in very closely to neural networks.\n",
    "\n",
    "For simplicity we will consider classification between two classes which can then be extended to multiple classes typically known as **multinomial logistic regression**. "
   ]
  }
 ],
 "metadata": {
  "kernelspec": {
   "display_name": "guide",
   "language": "python",
   "name": "guide"
  },
  "language_info": {
   "codemirror_mode": {
    "name": "ipython",
    "version": 3
   },
   "file_extension": ".py",
   "mimetype": "text/x-python",
   "name": "python",
   "nbconvert_exporter": "python",
   "pygments_lexer": "ipython3",
   "version": "3.7.7"
  }
 },
 "nbformat": 4,
 "nbformat_minor": 4
}
