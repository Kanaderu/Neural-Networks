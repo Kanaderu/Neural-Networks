{
 "cells": [
  {
   "cell_type": "code",
   "execution_count": 41,
   "metadata": {},
   "outputs": [
    {
     "name": "stdout",
     "output_type": "stream",
     "text": [
      "torch.Size([3, 512, 512])\n",
      "torch.Size([3])\n",
      "RGB color mean: tensor([0.7068, 0.3884, 0.4134]), size: torch.Size([3])\n",
      "RGB color std: tensor([0.1923, 0.2074, 0.1336]), size: torch.Size([3])\n"
     ]
    }
   ],
   "source": [
    "import torch\n",
    "from torchvision import transforms\n",
    "from PIL import Image\n",
    "\n",
    "# web fetch\n",
    "import requests\n",
    "from io import BytesIO\n",
    "\n",
    "# load image from url\n",
    "response = requests.get('https://upload.wikimedia.org/wikipedia/en/7/7d/Lenna_%28test_image%29.png')\n",
    "img = Image.open(BytesIO(response.content))\n",
    "\n",
    "# convert image to torch tensor with shape Channel x Height X Width\n",
    "img_tensor = transforms.ToTensor()(img)\n",
    "\n",
    "# tensor image is in channels \n",
    "print(img_tensor.shape)\n",
    "\n",
    "# perform mean over last two channels\n",
    "img_tensor_rgb_mean = torch.mean(img_tensor, [1,2])\n",
    "print(img_tensor_rgb_mean.shape)\n",
    "print(f'RGB color mean: {img_tensor_rgb_mean}, size: {img_tensor_rgb_mean.shape}')\n",
    "\n",
    "# perform std over last two channels\n",
    "img_tensor_rgb_std = torch.std(img_tensor, [1,2])\n",
    "print(f'RGB color std: {img_tensor_rgb_std}, size: {img_tensor_rgb_std.shape}')"
   ]
  },
  {
   "cell_type": "markdown",
   "metadata": {},
   "source": [
    "## Load and Display an Image"
   ]
  },
  {
   "cell_type": "code",
   "execution_count": 2,
   "metadata": {},
   "outputs": [
    {
     "name": "stdout",
     "output_type": "stream",
     "text": [
      "Shape of Image: (512, 512, 3)\n"
     ]
    },
    {
     "data": {
      "application/vnd.jupyter.widget-view+json": {
       "model_id": "66282016ec3540b4bb18892be68ce0ae",
       "version_major": 2,
       "version_minor": 0
      },
      "text/plain": [
       "Canvas(toolbar=Toolbar(toolitems=[('Home', 'Reset original view', 'home', 'home'), ('Back', 'Back to  previous…"
      ]
     },
     "metadata": {},
     "output_type": "display_data"
    }
   ],
   "source": [
    "# load image\n",
    "url = 'https://upload.wikimedia.org/wikipedia/en/7/7d/Lenna_%28test_image%29.png'\n",
    "# url = 'https://upload.wikimedia.org/wikipedia/commons/3/3f/Bikesgray.jpg'\n",
    "# url = 'https://upload.wikimedia.org/wikipedia/commons/6/61/Black_Circle.jpg'\n",
    "# url = 'https://upload.wikimedia.org/wikipedia/commons/c/cd/Aliased.png'\n",
    "# url = 'https://upload.wikimedia.org/wikipedia/commons/thumb/5/5b/10x10_checkered_board.svg/1000px-10x10_checkered_board.svg.png'\n",
    "req = urllib.request.urlopen(url)\n",
    "img_array = np.asarray(bytearray(req.read()), dtype=np.uint8)\n",
    "img = cv2.imdecode(img_array, -1)\n",
    "\n",
    "# convert from opencv's BGR to RGB\n",
    "img = cv2.cvtColor(img, cv2.COLOR_BGR2RGB)\n",
    "\n",
    "print('Shape of Image: {}'.format(np.shape(img)))\n",
    "\n",
    "plt.figure()\n",
    "plt.imshow(img)\n",
    "plt.show()"
   ]
  },
  {
   "cell_type": "markdown",
   "metadata": {},
   "source": [
    "## Show Each Channel of the Image"
   ]
  },
  {
   "cell_type": "code",
   "execution_count": 3,
   "metadata": {},
   "outputs": [
    {
     "data": {
      "application/vnd.jupyter.widget-view+json": {
       "model_id": "f2783cf083bb403fac7dbc06c0c6f509",
       "version_major": 2,
       "version_minor": 0
      },
      "text/plain": [
       "Canvas(toolbar=Toolbar(toolitems=[('Home', 'Reset original view', 'home', 'home'), ('Back', 'Back to  previous…"
      ]
     },
     "metadata": {},
     "output_type": "display_data"
    }
   ],
   "source": [
    "R_channel = img[:,:,0]\n",
    "B_channel = img[:,:,1]\n",
    "G_channel = img[:,:,2]\n",
    "\n",
    "plt.figure(figsize=(8,4))\n",
    "plt.subplot(131)\n",
    "plt.imshow(R_channel, cmap='gray')\n",
    "plt.title('Red Channel')\n",
    "\n",
    "plt.subplot(132)\n",
    "plt.imshow(G_channel, cmap='gray')\n",
    "plt.title('Green Channel')\n",
    "\n",
    "plt.subplot(133)\n",
    "plt.imshow(B_channel, cmap='gray')\n",
    "plt.title('Blue Channel');"
   ]
  },
  {
   "cell_type": "code",
   "execution_count": null,
   "metadata": {},
   "outputs": [],
   "source": [
    "# sobel gradient kernels for Gx and Gy\n",
    "gx_kernel = [\n",
    "             [-1, 0, +1,],\n",
    "             [-2, 0, +2,],\n",
    "             [-1, 0, +1,],\n",
    "            ]\n",
    "gy_kernel = [\n",
    "             [+1, +2, +1,],\n",
    "             [ 0,  0,  0,],\n",
    "             [-1, -2, -1,],\n",
    "            ]\n",
    "\n",
    "# let's only look at one channel for now\n",
    "channel = B_channel\n",
    "\n",
    "# apply image filter\n",
    "channel_x = convolve2d(channel, gx_kernel) # edge detection in x\n",
    "channel_y = convolve2d(channel, gy_kernel) # edge detection in y\n",
    "\n",
    "# sobel magnitude and direction\n",
    "channel_gmag = np.sqrt(np.power(channel_x, 2) + np.power(channel_y, 2))\n",
    "channel_gtheta = np.arctan2(channel_y, channel_x)\n",
    "\n",
    "# plot results\n",
    "plt.figure(figsize=(8,8))\n",
    "\n",
    "plt.subplot(221)\n",
    "plt.imshow(channel_x, cmap='gray')\n",
    "plt.title('Sobel Filter: Gradient X (- > +)')\n",
    "\n",
    "plt.subplot(222)\n",
    "plt.imshow(channel_y, cmap='gray')\n",
    "plt.title('Sobel Filter: Gradient Y (- ^ +)')\n",
    "\n",
    "plt.subplot(223)\n",
    "plt.imshow(channel_gmag, cmap='gray')\n",
    "plt.title('Sobel Filter: Gradient Magnitude')\n",
    "\n",
    "plt.subplot(224)\n",
    "plt.imshow(channel_gtheta, cmap='gray')\n",
    "plt.title('Sobel Filter: Gradient Direction');"
   ]
  },
  {
   "cell_type": "code",
   "execution_count": null,
   "metadata": {},
   "outputs": [],
   "source": [
    "from mpl_toolkits.mplot3d import Axes3D\n",
    "from PIL import Image"
   ]
  },
  {
   "cell_type": "code",
   "execution_count": null,
   "metadata": {},
   "outputs": [],
   "source": [
    "# image resize... scipy deprecated to use PIL\n",
    "re_image = np.array(Image.fromarray(channel_gmag).resize((channel_gmag.shape[0]//5, channel_gmag.shape[1]//5)))\n",
    "\n",
    "# meshgrid x and y\n",
    "xx, yy = np.mgrid[0:re_image.shape[0], 0:re_image.shape[1]]\n",
    "\n",
    "fig = plt.figure()\n",
    "ax = fig.gca(projection='3d')\n",
    "ax.plot_surface(xx, yy, re_image ,rstride=1, cstride=1, cmap='gray', linewidth=0)\n",
    "ax.set_xlabel('X')\n",
    "ax.set_ylabel('Y')\n",
    "ax.set_zlabel('Z')"
   ]
  },
  {
   "cell_type": "code",
   "execution_count": null,
   "metadata": {},
   "outputs": [],
   "source": [
    "threshold = 100\n",
    "\n",
    "fig = plt.figure()\n",
    "ax = fig.gca(projection='3d')\n",
    "ax.scatter(xx[re_image<threshold], yy[re_image<threshold], re_image[re_image<threshold], s=1) # plot points less then threshold\n",
    "ax.scatter(xx[re_image>=threshold], yy[re_image>=threshold], re_image[re_image>=threshold], s=1, c='r') # plot points greater than threshold\n",
    "ax.set_xlabel('X')\n",
    "ax.set_ylabel('Y')\n",
    "ax.set_zlabel('Z')"
   ]
  }
 ],
 "metadata": {
  "kernelspec": {
   "display_name": "guide",
   "language": "python",
   "name": "guide"
  },
  "language_info": {
   "codemirror_mode": {
    "name": "ipython",
    "version": 3
   },
   "file_extension": ".py",
   "mimetype": "text/x-python",
   "name": "python",
   "nbconvert_exporter": "python",
   "pygments_lexer": "ipython3",
   "version": "3.7.7"
  }
 },
 "nbformat": 4,
 "nbformat_minor": 4
}
